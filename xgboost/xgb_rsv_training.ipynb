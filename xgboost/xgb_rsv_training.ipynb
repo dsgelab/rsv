{
 "cells": [
  {
   "cell_type": "code",
   "execution_count": null,
   "id": "streaming-reaction",
   "metadata": {},
   "outputs": [],
   "source": [
    "# Import needed packages\n",
    "import pandas as pd\n",
    "from xgboost import XGBClassifier\n",
    "import random\n",
    "from sklearn.model_selection import GridSearchCV, RandomizedSearchCV, StratifiedKFold\n",
    "\n",
    "# Define path to the data and read the data into dataframe\n",
    "data = \".../xgboost_data_full.csv\"\n",
    "df = pd.read_csv(data)\n",
    "\n",
    "# Split the data into features (X) and target (y): \n",
    "X = df.iloc[:,2:]\n",
    "y = df.iloc[:,1]\n",
    "\n",
    "# Define XGBoost base hyperparameters\n",
    "xgb_model = XGBClassifier(\n",
    "    tree_method = 'hist', \n",
    "    objective='binary:logistic', \n",
    "    eval_metric=\"logloss\", \n",
    "    use_label_encoder = False,\n",
    ")\n",
    "\n",
    "# Randomized search\n",
    "param_grid = {\n",
    "    'max_depth': range(2, 8, 1),\n",
    "    'n_estimators': range(200, 800, 100),\n",
    "    'reg_alpha': [0, 1, 15, 50],\n",
    "    'max_delta_step' : [0, 1, 10, 30],\n",
    "    'learning_rate' : [0.001, 0.1, 0.3, 0.5],\n",
    "}\n",
    "\n",
    "kfold = StratifiedKFold(n_splits=3, shuffle=True)\n",
    "opt = RandomizedSearchCV(xgb_model, param_grid, scoring='roc_auc', n_iter=30, cv=kfold, verbose=3)\n",
    "opt.fit(X, y, verbose=3)\n",
    "print(\"Best: %f using %s\" % (opt.best_score_, opt.best_params_))"
   ]
  },
  {
   "cell_type": "code",
   "execution_count": null,
   "id": "exempt-monthly",
   "metadata": {},
   "outputs": [],
   "source": [
    "# Grid search\n",
    "param_grid = {\n",
    "    'max_depth': [4, 6],\n",
    "    'n_estimators': [400, 500],\n",
    "    'reg_alpha': [15, 50],\n",
    "    'max_delta_step' : [1, 30],\n",
    "    'learning_rate' : [0.1]\n",
    "}\n",
    "\n",
    "kfold = StratifiedKFold(n_splits=5, shuffle=True)\n",
    "opt = GridSearchCV(xgb_model, param_grid, scoring = 'roc_auc', cv=kfold, verbose=3)\n",
    "opt.fit(X, y, verbose=3)\n",
    "print(\"Best: %f using %s\" % (opt.best_score_, opt.best_params_))"
   ]
  },
  {
   "cell_type": "code",
   "execution_count": null,
   "id": "first-smell",
   "metadata": {},
   "outputs": [],
   "source": [
    "# Final GridSearchCV parameters\n",
    "param_grid = {\n",
    "    'max_depth': [4],\n",
    "    'n_estimators': [400],\n",
    "    'reg_alpha': [15],\n",
    "    'max_delta_step' : [1],\n",
    "    'learning_rate' : [0.1, 0.3]\n",
    "}\n",
    "kfold = StratifiedKFold(n_splits=5, shuffle=True)\n",
    "opt = GridSearchCV(xgb_model, param_grid, scoring = 'roc_auc', cv=kfold, verbose=3)\n",
    "opt.fit(X, y, verbose=3)\n",
    "print(\"Best: %f using %s\" % (opt.best_score_, opt.best_params_))\n",
    "optimized_xgb_model = opt.best_estimator_\n",
    "optimized_xgb_model.save_model('TrainedXGBF.model')"
   ]
  }
 ],
 "metadata": {
  "kernelspec": {
   "display_name": "<env_display_name>",
   "language": "python",
   "name": "python3"
  },
  "language_info": {
   "codemirror_mode": {
    "name": "ipython",
    "version": 3
   },
   "file_extension": ".py",
   "mimetype": "text/x-python",
   "name": "python",
   "nbconvert_exporter": "python",
   "pygments_lexer": "ipython3",
   "version": "3.9.7"
  }
 },
 "nbformat": 4,
 "nbformat_minor": 5
}
